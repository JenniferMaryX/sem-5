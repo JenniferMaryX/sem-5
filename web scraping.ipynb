{
 "cells": [
  {
   "cell_type": "markdown",
   "id": "6d816cca-4856-4381-80ed-89c1e259613d",
   "metadata": {},
   "source": [
    "### Web scraping\n",
    "geting information form a website"
   ]
  },
  {
   "cell_type": "code",
   "execution_count": null,
   "id": "ad3939db-a521-430c-9942-53e8bda4a23f",
   "metadata": {},
   "outputs": [],
   "source": [
    "pip install bs4"
   ]
  },
  {
   "cell_type": "code",
   "execution_count": null,
   "id": "b71e2aea-4fe0-42a1-860c-31242b4a9900",
   "metadata": {},
   "outputs": [],
   "source": [
    "from bs4 import BeautifulSoup as bs"
   ]
  },
  {
   "cell_type": "code",
   "execution_count": null,
   "id": "cc8d2b2c-8443-4a8a-b644-e2c0d90ebc21",
   "metadata": {},
   "outputs": [],
   "source": [
    "import pandas as pd"
   ]
  },
  {
   "cell_type": "code",
   "execution_count": null,
   "id": "ff062815-1841-4f6b-b8be-d2bfd28d2777",
   "metadata": {},
   "outputs": [],
   "source": [
    "import requests"
   ]
  },
  {
   "cell_type": "code",
   "execution_count": null,
   "id": "81647ea8-2701-4eb9-8d37-a9b004d234d1",
   "metadata": {},
   "outputs": [],
   "source": [
    "url=\"https://www.shopsy.in/sarees-online\""
   ]
  },
  {
   "cell_type": "code",
   "execution_count": null,
   "id": "1cb6bb7a-ee4c-4564-812c-c6a10ba28089",
   "metadata": {},
   "outputs": [],
   "source": [
    "response=requests.get(url)"
   ]
  },
  {
   "cell_type": "code",
   "execution_count": null,
   "id": "68672ab5-3ea3-446a-a26e-1a94b79dba69",
   "metadata": {},
   "outputs": [],
   "source": [
    "response"
   ]
  },
  {
   "cell_type": "code",
   "execution_count": null,
   "id": "61c3a9d5-9784-4ff4-8960-043487c431de",
   "metadata": {},
   "outputs": [],
   "source": [
    "backcode=bs(response.text)"
   ]
  },
  {
   "cell_type": "code",
   "execution_count": null,
   "id": "e8e167b0-1878-45ec-a30b-27f3f43f5d59",
   "metadata": {
    "scrolled": true
   },
   "outputs": [],
   "source": [
    "backcode"
   ]
  },
  {
   "cell_type": "code",
   "execution_count": null,
   "id": "de7760d4-f320-42a2-bbe3-98af21e0bb66",
   "metadata": {},
   "outputs": [],
   "source": [
    "saree_name=backcode.select(\".r-zl2h9q.r-1udh08x\")"
   ]
  },
  {
   "cell_type": "code",
   "execution_count": null,
   "id": "ba18057d-4a47-4cdb-854d-b2b5e6b89992",
   "metadata": {},
   "outputs": [],
   "source": [
    "saree_name"
   ]
  },
  {
   "cell_type": "code",
   "execution_count": null,
   "id": "676362a3-241e-41e6-b2a9-5607c31bdb4d",
   "metadata": {},
   "outputs": [],
   "source": [
    "delivery=backcode.select(\".r-knv0ih .css-146c3p1\")"
   ]
  },
  {
   "cell_type": "code",
   "execution_count": null,
   "id": "8d7331e6-c320-4d7f-94fb-08996db9b656",
   "metadata": {
    "scrolled": true
   },
   "outputs": [],
   "source": [
    "delivery"
   ]
  },
  {
   "cell_type": "code",
   "execution_count": null,
   "id": "992f891c-6880-4707-9e01-d3aabbc80344",
   "metadata": {},
   "outputs": [],
   "source": [
    "data_frame_name=pd.DataFrame(saree_name,columns=[\"name\"])"
   ]
  },
  {
   "cell_type": "code",
   "execution_count": null,
   "id": "0c4adcd4-91ed-42b0-bd59-d18d3384d5f5",
   "metadata": {
    "scrolled": true
   },
   "outputs": [],
   "source": [
    "data_frame_name[\"delivery\"]=delivery"
   ]
  },
  {
   "cell_type": "code",
   "execution_count": null,
   "id": "cea1012c-8c5f-487c-9c4a-665a367605ba",
   "metadata": {},
   "outputs": [],
   "source": [
    "data_frame_price=pd.DataFrame(saree_price,columns=[\"price\"])"
   ]
  },
  {
   "cell_type": "code",
   "execution_count": null,
   "id": "bf51f831-5dcf-42bd-95d6-2a7f4b59b792",
   "metadata": {},
   "outputs": [],
   "source": [
    "data_frame_price"
   ]
  },
  {
   "cell_type": "code",
   "execution_count": null,
   "id": "35f3c1f2-0733-465d-a848-cbc3d59d7ad7",
   "metadata": {},
   "outputs": [],
   "source": []
  }
 ],
 "metadata": {
  "kernelspec": {
   "display_name": "Python 3 (ipykernel)",
   "language": "python",
   "name": "python3"
  },
  "language_info": {
   "codemirror_mode": {
    "name": "ipython",
    "version": 3
   },
   "file_extension": ".py",
   "mimetype": "text/x-python",
   "name": "python",
   "nbconvert_exporter": "python",
   "pygments_lexer": "ipython3",
   "version": "3.11.7"
  }
 },
 "nbformat": 4,
 "nbformat_minor": 5
}
