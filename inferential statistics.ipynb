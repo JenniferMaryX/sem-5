{
 "cells": [
  {
   "cell_type": "code",
   "execution_count": 4,
   "id": "24b4eada-3851-45ae-b9ca-f6a7f4d72325",
   "metadata": {},
   "outputs": [
    {
     "name": "stdout",
     "output_type": "stream",
     "text": [
      "Collecting numpy\n",
      "  Downloading numpy-2.0.2-cp39-cp39-win_amd64.whl.metadata (59 kB)\n",
      "Downloading numpy-2.0.2-cp39-cp39-win_amd64.whl (15.9 MB)\n",
      "   ---------------------------------------- 0.0/15.9 MB ? eta -:--:--\n",
      "   --------- ------------------------------ 3.7/15.9 MB 18.1 MB/s eta 0:00:01\n",
      "   ------------------- -------------------- 7.9/15.9 MB 18.7 MB/s eta 0:00:01\n",
      "   ------------------------------ --------- 12.1/15.9 MB 18.9 MB/s eta 0:00:01\n",
      "   ---------------------------------------  15.7/15.9 MB 19.0 MB/s eta 0:00:01\n",
      "   ---------------------------------------  15.7/15.9 MB 19.0 MB/s eta 0:00:01\n",
      "   ---------------------------------------- 15.9/15.9 MB 12.5 MB/s eta 0:00:00\n",
      "Installing collected packages: numpy\n",
      "Successfully installed numpy-2.0.2\n",
      "Note: you may need to restart the kernel to use updated packages.\n"
     ]
    }
   ],
   "source": [
    "pip install numpy"
   ]
  },
  {
   "cell_type": "code",
   "execution_count": 5,
   "id": "1b0b3562-4845-457e-8d02-e692099ef540",
   "metadata": {},
   "outputs": [],
   "source": [
    "import numpy as np"
   ]
  },
  {
   "cell_type": "code",
   "execution_count": 6,
   "id": "d025c491-e1af-4001-8fda-fe3fecdf552a",
   "metadata": {},
   "outputs": [],
   "source": [
    "np.random.seed()\n",
    "heights=np.random.normal(loc=65,scale=3,size=30)"
   ]
  },
  {
   "cell_type": "code",
   "execution_count": 7,
   "id": "3feb0fcd-c77e-4bb3-ba4d-f470d51ef6e8",
   "metadata": {},
   "outputs": [
    {
     "data": {
      "text/plain": [
       "array([60.03078123, 63.00995152, 62.8504466 , 61.00210434, 58.39954967,\n",
       "       65.80159779, 66.72582952, 65.78606846, 60.16759796, 64.72038319,\n",
       "       66.16120111, 66.40758845, 59.90773884, 66.49485159, 64.10022426,\n",
       "       70.74939764, 61.43861225, 66.71507042, 62.10546525, 61.05838242,\n",
       "       63.9817139 , 61.80256533, 64.93298354, 64.26440875, 66.9854045 ,\n",
       "       68.97507396, 67.07584961, 65.68225457, 60.8323473 , 63.0801255 ])"
      ]
     },
     "execution_count": 7,
     "metadata": {},
     "output_type": "execute_result"
    }
   ],
   "source": [
    "heights"
   ]
  },
  {
   "cell_type": "code",
   "execution_count": 8,
   "id": "0ef211d7-3631-4d49-8954-fad067522ee6",
   "metadata": {},
   "outputs": [
    {
     "name": "stdout",
     "output_type": "stream",
     "text": [
      "sample mean(point estimate):  64.04151898171907\n"
     ]
    }
   ],
   "source": [
    "sample_mean=np.mean(heights)\n",
    "print(\"sample mean(point estimate): \",sample_mean)"
   ]
  },
  {
   "cell_type": "code",
   "execution_count": 10,
   "id": "84c75299-773e-47ad-ab68-8317aec4aca9",
   "metadata": {},
   "outputs": [
    {
     "name": "stdout",
     "output_type": "stream",
     "text": [
      "Collecting scipy\n",
      "  Downloading scipy-1.13.1-cp39-cp39-win_amd64.whl.metadata (60 kB)\n",
      "Requirement already satisfied: numpy<2.3,>=1.22.4 in c:\\users\\admin\\.conda\\envs\\jennifer\\lib\\site-packages (from scipy) (2.0.2)\n",
      "Downloading scipy-1.13.1-cp39-cp39-win_amd64.whl (46.2 MB)\n",
      "   ---------------------------------------- 0.0/46.2 MB ? eta -:--:--\n",
      "   -- ------------------------------------- 2.4/46.2 MB 13.4 MB/s eta 0:00:04\n",
      "   ----- ---------------------------------- 6.0/46.2 MB 14.2 MB/s eta 0:00:03\n",
      "   -------- ------------------------------- 10.2/46.2 MB 15.9 MB/s eta 0:00:03\n",
      "   ------------ --------------------------- 14.4/46.2 MB 16.8 MB/s eta 0:00:02\n",
      "   ---------------- ----------------------- 18.6/46.2 MB 17.3 MB/s eta 0:00:02\n",
      "   ------------------- -------------------- 22.8/46.2 MB 17.8 MB/s eta 0:00:02\n",
      "   ----------------------- ---------------- 27.0/46.2 MB 18.0 MB/s eta 0:00:02\n",
      "   -------------------------- ------------- 31.2/46.2 MB 18.0 MB/s eta 0:00:01\n",
      "   ------------------------------ --------- 35.4/46.2 MB 18.1 MB/s eta 0:00:01\n",
      "   ---------------------------------- ----- 39.3/46.2 MB 18.3 MB/s eta 0:00:01\n",
      "   ------------------------------------- -- 43.5/46.2 MB 18.3 MB/s eta 0:00:01\n",
      "   ---------------------------------------  46.1/46.2 MB 18.4 MB/s eta 0:00:01\n",
      "   ---------------------------------------  46.1/46.2 MB 18.4 MB/s eta 0:00:01\n",
      "   ---------------------------------------- 46.2/46.2 MB 15.7 MB/s eta 0:00:00\n",
      "Installing collected packages: scipy\n",
      "Successfully installed scipy-1.13.1\n",
      "Note: you may need to restart the kernel to use updated packages.\n"
     ]
    }
   ],
   "source": [
    "pip install scipy"
   ]
  },
  {
   "cell_type": "code",
   "execution_count": 11,
   "id": "25f09b0d-b7de-4e73-a7bd-0c3b7e0ef921",
   "metadata": {},
   "outputs": [],
   "source": [
    "import numpy as np\n",
    "import scipy.stats as stats"
   ]
  },
  {
   "cell_type": "code",
   "execution_count": 12,
   "id": "f610d445-3c51-4293-a3ad-bd0843e783f7",
   "metadata": {},
   "outputs": [],
   "source": [
    "np.random.seed()\n",
    "heights=np.random.normal(loc=65,scale=3,size=30)"
   ]
  },
  {
   "cell_type": "code",
   "execution_count": 13,
   "id": "c1755566-5ca6-4240-a8f9-aad0c468957e",
   "metadata": {},
   "outputs": [],
   "source": [
    "sample_mean=np.mean(heights)\n",
    "sample_std=np.std(heights,ddof=1)"
   ]
  },
  {
   "cell_type": "code",
   "execution_count": 14,
   "id": "0c5c2a59-9fd9-4928-afa4-a2aca6df8025",
   "metadata": {},
   "outputs": [],
   "source": [
    "confidence_level=0.95"
   ]
  },
  {
   "cell_type": "code",
   "execution_count": 18,
   "id": "2a88c9cd-8f7f-4176-966b-34d5cdefc7d9",
   "metadata": {},
   "outputs": [],
   "source": [
    "margin_of_error=stats.t.ppf((1+confidence_level)/2,len(heights)-1)*(sample_std/np.sqrt(len(heights)))"
   ]
  },
  {
   "cell_type": "code",
   "execution_count": 19,
   "id": "0bc84aa6-b03f-4030-bc82-d88e1376b140",
   "metadata": {},
   "outputs": [],
   "source": [
    "lower_bound=sample_mean-margin_of_error\n",
    "upper_bound=sample_mean+margin_of_error"
   ]
  },
  {
   "cell_type": "code",
   "execution_count": 20,
   "id": "99b9ffba-831c-47da-b3f9-d47ca5c91433",
   "metadata": {},
   "outputs": [
    {
     "name": "stdout",
     "output_type": "stream",
     "text": [
      "confidence interval(95.0%):[64.2582940627944,66.41465853942599]\n"
     ]
    }
   ],
   "source": [
    "print(f\"confidence interval({confidence_level*100}%):[{lower_bound},{upper_bound}]\")"
   ]
  },
  {
   "cell_type": "code",
   "execution_count": 22,
   "id": "5fcd5092-3933-429d-85c0-9f25cca2524b",
   "metadata": {},
   "outputs": [],
   "source": [
    "np.random.seed()\n",
    "grp1_scores=np.random.normal(loc=70,scale=5,size=30)\n",
    "grp2_scores=np.random.normal(loc=75,scale=5,size=30)"
   ]
  },
  {
   "cell_type": "code",
   "execution_count": 24,
   "id": "dc295438-47ba-4fb0-8ed5-ef5aa6f17863",
   "metadata": {},
   "outputs": [],
   "source": [
    "t_statistics,p_value=stats.ttest_ind(grp1_scores,grp2_scores)"
   ]
  },
  {
   "cell_type": "code",
   "execution_count": 25,
   "id": "4a6188ce-1c21-4362-a70a-05955107dd15",
   "metadata": {},
   "outputs": [],
   "source": [
    "alpha=0.05"
   ]
  },
  {
   "cell_type": "code",
   "execution_count": 27,
   "id": "5bfa973b-accf-40fb-b5f9-0163c0a79ebd",
   "metadata": {},
   "outputs": [
    {
     "name": "stdout",
     "output_type": "stream",
     "text": [
      "T-test results: \n",
      "T-statistic:  -5.090006485118421\n",
      "p-value:  4.0520389072605746e-06\n"
     ]
    }
   ],
   "source": [
    "print(\"T-test results: \")\n",
    "print(\"T-statistic: \",t_statistics)\n",
    "print(\"p-value: \",p_value)"
   ]
  },
  {
   "cell_type": "code",
   "execution_count": 28,
   "id": "5ce22e20-01fe-4009-8f96-7b888b16aa95",
   "metadata": {},
   "outputs": [
    {
     "name": "stdout",
     "output_type": "stream",
     "text": [
      "reject the null hypothesis. there is a significant difference between the mean of the two groups\n"
     ]
    }
   ],
   "source": [
    "if p_value<alpha:\n",
    "    print(\"reject the null hypothesis. there is a significant difference between the mean of the two groups\")\n",
    "else:\n",
    "    print(\"fail to reject the hypothesis. there is no significant difference between the two groups\")"
   ]
  },
  {
   "cell_type": "code",
   "execution_count": 31,
   "id": "0fdec146-05b0-4b81-b192-c5550829ceae",
   "metadata": {},
   "outputs": [],
   "source": [
    "static_2tail,p_value_2tail=stats.ttest_ind(grp1_scores,grp2_scores,alternative='greater')"
   ]
  },
  {
   "cell_type": "code",
   "execution_count": 35,
   "id": "16d6ab78-4be4-4ac2-95b3-3ecbbf6a0f34",
   "metadata": {},
   "outputs": [],
   "source": [
    "static_1tail_left,p_value_1tail_right=stats.ttest_ind(grp1_scores,grp2_scores,alternative='greater')"
   ]
  },
  {
   "cell_type": "code",
   "execution_count": 37,
   "id": "6e4a714d-a735-46b7-9d71-2855fecf72b8",
   "metadata": {},
   "outputs": [
    {
     "name": "stdout",
     "output_type": "stream",
     "text": [
      "Two tailed test results: \n",
      "T-statistic:  -5.090006485118421\n",
      "p-value:  0.9999979739805464\n"
     ]
    }
   ],
   "source": [
    "print(\"Two tailed test results: \")\n",
    "print(\"T-statistic: \",static_2tail)\n",
    "print(\"p-value: \",p_value_2tail)"
   ]
  },
  {
   "cell_type": "code",
   "execution_count": null,
   "id": "b622216a-a33b-4eb5-8df4-c6c61a63d8fa",
   "metadata": {},
   "outputs": [],
   "source": [
    "print(\"one tailed test (left tailed \")\n",
    "print(\"T-statistic: \",static_2tail)\n",
    "print(\"p-value: \",p_value_2tail)"
   ]
  }
 ],
 "metadata": {
  "kernelspec": {
   "display_name": "Python 3 (ipykernel)",
   "language": "python",
   "name": "python3"
  },
  "language_info": {
   "codemirror_mode": {
    "name": "ipython",
    "version": 3
   },
   "file_extension": ".py",
   "mimetype": "text/x-python",
   "name": "python",
   "nbconvert_exporter": "python",
   "pygments_lexer": "ipython3",
   "version": "3.9.19"
  }
 },
 "nbformat": 4,
 "nbformat_minor": 5
}
