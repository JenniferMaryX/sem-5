{
 "cells": [
  {
   "cell_type": "code",
   "execution_count": 1,
   "id": "5f565190-046f-4472-bdfa-5c276804dcea",
   "metadata": {},
   "outputs": [],
   "source": [
    "import pandas as pd"
   ]
  },
  {
   "cell_type": "code",
   "execution_count": 2,
   "id": "e93d51f7-0236-4e2a-9285-d0d57dbe6286",
   "metadata": {},
   "outputs": [
    {
     "data": {
      "text/plain": [
       "'2.2.2'"
      ]
     },
     "execution_count": 2,
     "metadata": {},
     "output_type": "execute_result"
    }
   ],
   "source": [
    "pd.__version__"
   ]
  },
  {
   "cell_type": "code",
   "execution_count": 21,
   "id": "3becc223-a906-48b6-b21f-96198fce73d7",
   "metadata": {},
   "outputs": [],
   "source": [
    "s1=pd.Series(['navy','red','dark blue','yellow','sandle'],index=[1,2,3,4,5])"
   ]
  },
  {
   "cell_type": "code",
   "execution_count": 22,
   "id": "ae5dadff-5cf1-47b7-b436-743656e6fcd5",
   "metadata": {},
   "outputs": [
    {
     "data": {
      "text/plain": [
       "1         navy\n",
       "2          red\n",
       "3    dark blue\n",
       "4       yellow\n",
       "5       sandle\n",
       "dtype: object"
      ]
     },
     "execution_count": 22,
     "metadata": {},
     "output_type": "execute_result"
    }
   ],
   "source": [
    "s1"
   ]
  },
  {
   "cell_type": "code",
   "execution_count": 23,
   "id": "ce619efd-8ffd-42bf-82b7-af5bc4bfbad2",
   "metadata": {},
   "outputs": [],
   "source": [
    "s2=pd.Series(['pencil','fire','sky','ball','shirt'],index=[1,2,3,4,5])"
   ]
  },
  {
   "cell_type": "code",
   "execution_count": 24,
   "id": "7656e7d7-483f-48a5-be92-dc72e404e49d",
   "metadata": {},
   "outputs": [
    {
     "data": {
      "text/plain": [
       "1    pencil\n",
       "2      fire\n",
       "3       sky\n",
       "4      ball\n",
       "5     shirt\n",
       "dtype: object"
      ]
     },
     "execution_count": 24,
     "metadata": {},
     "output_type": "execute_result"
    }
   ],
   "source": [
    "s2"
   ]
  },
  {
   "cell_type": "code",
   "execution_count": 25,
   "id": "8984cb7d-e5e5-4c38-8886-135ea6b92681",
   "metadata": {},
   "outputs": [],
   "source": [
    "df1=pd.DataFrame(s1,columns=[\"colour\"])"
   ]
  },
  {
   "cell_type": "code",
   "execution_count": 26,
   "id": "5a75aa49-b19a-4c64-9b70-876117ba05fc",
   "metadata": {},
   "outputs": [
    {
     "data": {
      "text/html": [
       "<div>\n",
       "<style scoped>\n",
       "    .dataframe tbody tr th:only-of-type {\n",
       "        vertical-align: middle;\n",
       "    }\n",
       "\n",
       "    .dataframe tbody tr th {\n",
       "        vertical-align: top;\n",
       "    }\n",
       "\n",
       "    .dataframe thead th {\n",
       "        text-align: right;\n",
       "    }\n",
       "</style>\n",
       "<table border=\"1\" class=\"dataframe\">\n",
       "  <thead>\n",
       "    <tr style=\"text-align: right;\">\n",
       "      <th></th>\n",
       "      <th>colour</th>\n",
       "    </tr>\n",
       "  </thead>\n",
       "  <tbody>\n",
       "    <tr>\n",
       "      <th>1</th>\n",
       "      <td>navy</td>\n",
       "    </tr>\n",
       "    <tr>\n",
       "      <th>2</th>\n",
       "      <td>red</td>\n",
       "    </tr>\n",
       "    <tr>\n",
       "      <th>3</th>\n",
       "      <td>dark blue</td>\n",
       "    </tr>\n",
       "    <tr>\n",
       "      <th>4</th>\n",
       "      <td>yellow</td>\n",
       "    </tr>\n",
       "    <tr>\n",
       "      <th>5</th>\n",
       "      <td>sandle</td>\n",
       "    </tr>\n",
       "  </tbody>\n",
       "</table>\n",
       "</div>"
      ],
      "text/plain": [
       "      colour\n",
       "1       navy\n",
       "2        red\n",
       "3  dark blue\n",
       "4     yellow\n",
       "5     sandle"
      ]
     },
     "execution_count": 26,
     "metadata": {},
     "output_type": "execute_result"
    }
   ],
   "source": [
    "df1"
   ]
  },
  {
   "cell_type": "code",
   "execution_count": 27,
   "id": "a774a23d-b23a-4720-b443-b0c1fb792181",
   "metadata": {},
   "outputs": [],
   "source": [
    "df1[\"object\"]=s2"
   ]
  },
  {
   "cell_type": "code",
   "execution_count": 28,
   "id": "386f9161-22a8-4198-a021-5a822fe712fb",
   "metadata": {},
   "outputs": [
    {
     "data": {
      "text/html": [
       "<div>\n",
       "<style scoped>\n",
       "    .dataframe tbody tr th:only-of-type {\n",
       "        vertical-align: middle;\n",
       "    }\n",
       "\n",
       "    .dataframe tbody tr th {\n",
       "        vertical-align: top;\n",
       "    }\n",
       "\n",
       "    .dataframe thead th {\n",
       "        text-align: right;\n",
       "    }\n",
       "</style>\n",
       "<table border=\"1\" class=\"dataframe\">\n",
       "  <thead>\n",
       "    <tr style=\"text-align: right;\">\n",
       "      <th></th>\n",
       "      <th>colour</th>\n",
       "      <th>object</th>\n",
       "    </tr>\n",
       "  </thead>\n",
       "  <tbody>\n",
       "    <tr>\n",
       "      <th>1</th>\n",
       "      <td>navy</td>\n",
       "      <td>pencil</td>\n",
       "    </tr>\n",
       "    <tr>\n",
       "      <th>2</th>\n",
       "      <td>red</td>\n",
       "      <td>fire</td>\n",
       "    </tr>\n",
       "    <tr>\n",
       "      <th>3</th>\n",
       "      <td>dark blue</td>\n",
       "      <td>sky</td>\n",
       "    </tr>\n",
       "    <tr>\n",
       "      <th>4</th>\n",
       "      <td>yellow</td>\n",
       "      <td>ball</td>\n",
       "    </tr>\n",
       "    <tr>\n",
       "      <th>5</th>\n",
       "      <td>sandle</td>\n",
       "      <td>shirt</td>\n",
       "    </tr>\n",
       "  </tbody>\n",
       "</table>\n",
       "</div>"
      ],
      "text/plain": [
       "      colour  object\n",
       "1       navy  pencil\n",
       "2        red    fire\n",
       "3  dark blue     sky\n",
       "4     yellow    ball\n",
       "5     sandle   shirt"
      ]
     },
     "execution_count": 28,
     "metadata": {},
     "output_type": "execute_result"
    }
   ],
   "source": [
    "df1"
   ]
  },
  {
   "cell_type": "code",
   "execution_count": 29,
   "id": "48bde6e4-f20a-46ac-b757-5e8469d22018",
   "metadata": {},
   "outputs": [],
   "source": [
    "animal={\"domesticated\":{1:\"dog\",2:\"cat\",3:\"pig\",4:\"goat\"},\"wild\":{1:\"wolf\",2:\"lion\",3:\"wild boar\",4:\"wild goat\"}}"
   ]
  },
  {
   "cell_type": "code",
   "execution_count": 31,
   "id": "b2c61086-2aef-4d9d-b5bb-b585f1695bfe",
   "metadata": {},
   "outputs": [],
   "source": [
    "df2=pd.DataFrame(animal,columns=[\"domesticated\",\"wild\"])"
   ]
  },
  {
   "cell_type": "code",
   "execution_count": 32,
   "id": "1a26c9eb-4195-4ae4-9fac-c103db62fa15",
   "metadata": {},
   "outputs": [
    {
     "data": {
      "text/html": [
       "<div>\n",
       "<style scoped>\n",
       "    .dataframe tbody tr th:only-of-type {\n",
       "        vertical-align: middle;\n",
       "    }\n",
       "\n",
       "    .dataframe tbody tr th {\n",
       "        vertical-align: top;\n",
       "    }\n",
       "\n",
       "    .dataframe thead th {\n",
       "        text-align: right;\n",
       "    }\n",
       "</style>\n",
       "<table border=\"1\" class=\"dataframe\">\n",
       "  <thead>\n",
       "    <tr style=\"text-align: right;\">\n",
       "      <th></th>\n",
       "      <th>domesticated</th>\n",
       "      <th>wild</th>\n",
       "    </tr>\n",
       "  </thead>\n",
       "  <tbody>\n",
       "    <tr>\n",
       "      <th>1</th>\n",
       "      <td>dog</td>\n",
       "      <td>wolf</td>\n",
       "    </tr>\n",
       "    <tr>\n",
       "      <th>2</th>\n",
       "      <td>cat</td>\n",
       "      <td>lion</td>\n",
       "    </tr>\n",
       "    <tr>\n",
       "      <th>3</th>\n",
       "      <td>pig</td>\n",
       "      <td>wild boar</td>\n",
       "    </tr>\n",
       "    <tr>\n",
       "      <th>4</th>\n",
       "      <td>goat</td>\n",
       "      <td>wild goat</td>\n",
       "    </tr>\n",
       "  </tbody>\n",
       "</table>\n",
       "</div>"
      ],
      "text/plain": [
       "  domesticated       wild\n",
       "1          dog       wolf\n",
       "2          cat       lion\n",
       "3          pig  wild boar\n",
       "4         goat  wild goat"
      ]
     },
     "execution_count": 32,
     "metadata": {},
     "output_type": "execute_result"
    }
   ],
   "source": [
    "df2"
   ]
  },
  {
   "cell_type": "markdown",
   "id": "0eaf384f-9cc0-4684-bd27-d0b18ccd7cfa",
   "metadata": {},
   "source": [
    "Activity 1\n",
    "\n",
    "create a dataframe for your class, containing 'name','regno.','year of study' as column names for 5 students"
   ]
  },
  {
   "cell_type": "code",
   "execution_count": 34,
   "id": "54777379-0dd3-4b21-a723-974ae253bf46",
   "metadata": {},
   "outputs": [],
   "source": [
    "Class={\"name\":{1:\"bea\",2:\"cathy\",3:\"danial\",4:\"fiona\",5:\"gerry\"},\n",
    "       \"reg no.\":{1:1226801,2:1128802,3:1228903,4:1218804,5:1129805},\n",
    "       \"year of study\":{1:\"3rd\",2:\"3rd\",3:\"3rd\",4:\"3rd\",5:\"3rd\"}}"
   ]
  },
  {
   "cell_type": "code",
   "execution_count": 35,
   "id": "ddb6c4ce-c2a8-4fce-88a3-aee154f773a6",
   "metadata": {},
   "outputs": [],
   "source": [
    "df3=pd.DataFrame(Class,columns=[\"name\",\"reg no.\",\"year of study\"])"
   ]
  },
  {
   "cell_type": "code",
   "execution_count": 36,
   "id": "be8ef9a9-da61-4a29-a319-5f1bac6f0192",
   "metadata": {},
   "outputs": [
    {
     "data": {
      "text/html": [
       "<div>\n",
       "<style scoped>\n",
       "    .dataframe tbody tr th:only-of-type {\n",
       "        vertical-align: middle;\n",
       "    }\n",
       "\n",
       "    .dataframe tbody tr th {\n",
       "        vertical-align: top;\n",
       "    }\n",
       "\n",
       "    .dataframe thead th {\n",
       "        text-align: right;\n",
       "    }\n",
       "</style>\n",
       "<table border=\"1\" class=\"dataframe\">\n",
       "  <thead>\n",
       "    <tr style=\"text-align: right;\">\n",
       "      <th></th>\n",
       "      <th>name</th>\n",
       "      <th>reg no.</th>\n",
       "      <th>year of study</th>\n",
       "    </tr>\n",
       "  </thead>\n",
       "  <tbody>\n",
       "    <tr>\n",
       "      <th>1</th>\n",
       "      <td>bea</td>\n",
       "      <td>1226801</td>\n",
       "      <td>3rd</td>\n",
       "    </tr>\n",
       "    <tr>\n",
       "      <th>2</th>\n",
       "      <td>cathy</td>\n",
       "      <td>1128802</td>\n",
       "      <td>3rd</td>\n",
       "    </tr>\n",
       "    <tr>\n",
       "      <th>3</th>\n",
       "      <td>danial</td>\n",
       "      <td>1228903</td>\n",
       "      <td>3rd</td>\n",
       "    </tr>\n",
       "    <tr>\n",
       "      <th>4</th>\n",
       "      <td>fiona</td>\n",
       "      <td>1218804</td>\n",
       "      <td>3rd</td>\n",
       "    </tr>\n",
       "    <tr>\n",
       "      <th>5</th>\n",
       "      <td>gerry</td>\n",
       "      <td>1129805</td>\n",
       "      <td>3rd</td>\n",
       "    </tr>\n",
       "  </tbody>\n",
       "</table>\n",
       "</div>"
      ],
      "text/plain": [
       "     name  reg no. year of study\n",
       "1     bea  1226801           3rd\n",
       "2   cathy  1128802           3rd\n",
       "3  danial  1228903           3rd\n",
       "4   fiona  1218804           3rd\n",
       "5   gerry  1129805           3rd"
      ]
     },
     "execution_count": 36,
     "metadata": {},
     "output_type": "execute_result"
    }
   ],
   "source": [
    "df3"
   ]
  },
  {
   "cell_type": "code",
   "execution_count": 37,
   "id": "0265ac2c-d26f-47b4-80e4-206d58fb2011",
   "metadata": {},
   "outputs": [],
   "source": [
    "name=df3[\"name\"]"
   ]
  },
  {
   "cell_type": "code",
   "execution_count": 38,
   "id": "0f243fd7-7114-405b-87e9-11a962f9953f",
   "metadata": {},
   "outputs": [
    {
     "data": {
      "text/plain": [
       "1       bea\n",
       "2     cathy\n",
       "3    danial\n",
       "4     fiona\n",
       "5     gerry\n",
       "Name: name, dtype: object"
      ]
     },
     "execution_count": 38,
     "metadata": {},
     "output_type": "execute_result"
    }
   ],
   "source": [
    "name"
   ]
  },
  {
   "cell_type": "code",
   "execution_count": 39,
   "id": "e6d02533-84e2-4df5-b1ff-43d2c851709f",
   "metadata": {},
   "outputs": [
    {
     "data": {
      "text/html": [
       "<div>\n",
       "<style scoped>\n",
       "    .dataframe tbody tr th:only-of-type {\n",
       "        vertical-align: middle;\n",
       "    }\n",
       "\n",
       "    .dataframe tbody tr th {\n",
       "        vertical-align: top;\n",
       "    }\n",
       "\n",
       "    .dataframe thead th {\n",
       "        text-align: right;\n",
       "    }\n",
       "</style>\n",
       "<table border=\"1\" class=\"dataframe\">\n",
       "  <thead>\n",
       "    <tr style=\"text-align: right;\">\n",
       "      <th></th>\n",
       "      <th>domesticated</th>\n",
       "      <th>wild</th>\n",
       "    </tr>\n",
       "  </thead>\n",
       "  <tbody>\n",
       "    <tr>\n",
       "      <th>1</th>\n",
       "      <td>dog</td>\n",
       "      <td>wolf</td>\n",
       "    </tr>\n",
       "    <tr>\n",
       "      <th>2</th>\n",
       "      <td>cat</td>\n",
       "      <td>lion</td>\n",
       "    </tr>\n",
       "    <tr>\n",
       "      <th>3</th>\n",
       "      <td>pig</td>\n",
       "      <td>wild boar</td>\n",
       "    </tr>\n",
       "  </tbody>\n",
       "</table>\n",
       "</div>"
      ],
      "text/plain": [
       "  domesticated       wild\n",
       "1          dog       wolf\n",
       "2          cat       lion\n",
       "3          pig  wild boar"
      ]
     },
     "execution_count": 39,
     "metadata": {},
     "output_type": "execute_result"
    }
   ],
   "source": [
    "df2.drop(4,axis=0)"
   ]
  },
  {
   "cell_type": "code",
   "execution_count": 40,
   "id": "9b99c66f-911f-45b1-b3c7-9c2fb73e8624",
   "metadata": {},
   "outputs": [
    {
     "data": {
      "text/html": [
       "<div>\n",
       "<style scoped>\n",
       "    .dataframe tbody tr th:only-of-type {\n",
       "        vertical-align: middle;\n",
       "    }\n",
       "\n",
       "    .dataframe tbody tr th {\n",
       "        vertical-align: top;\n",
       "    }\n",
       "\n",
       "    .dataframe thead th {\n",
       "        text-align: right;\n",
       "    }\n",
       "</style>\n",
       "<table border=\"1\" class=\"dataframe\">\n",
       "  <thead>\n",
       "    <tr style=\"text-align: right;\">\n",
       "      <th></th>\n",
       "      <th>wild</th>\n",
       "    </tr>\n",
       "  </thead>\n",
       "  <tbody>\n",
       "    <tr>\n",
       "      <th>1</th>\n",
       "      <td>wolf</td>\n",
       "    </tr>\n",
       "    <tr>\n",
       "      <th>2</th>\n",
       "      <td>lion</td>\n",
       "    </tr>\n",
       "    <tr>\n",
       "      <th>3</th>\n",
       "      <td>wild boar</td>\n",
       "    </tr>\n",
       "    <tr>\n",
       "      <th>4</th>\n",
       "      <td>wild goat</td>\n",
       "    </tr>\n",
       "  </tbody>\n",
       "</table>\n",
       "</div>"
      ],
      "text/plain": [
       "        wild\n",
       "1       wolf\n",
       "2       lion\n",
       "3  wild boar\n",
       "4  wild goat"
      ]
     },
     "execution_count": 40,
     "metadata": {},
     "output_type": "execute_result"
    }
   ],
   "source": [
    "df2.drop(\"domesticated\",axis=1)"
   ]
  },
  {
   "cell_type": "code",
   "execution_count": null,
   "id": "3c3aece3-253f-4026-aa87-d9050016deb2",
   "metadata": {},
   "outputs": [],
   "source": []
  }
 ],
 "metadata": {
  "kernelspec": {
   "display_name": "Python 3 (ipykernel)",
   "language": "python",
   "name": "python3"
  },
  "language_info": {
   "codemirror_mode": {
    "name": "ipython",
    "version": 3
   },
   "file_extension": ".py",
   "mimetype": "text/x-python",
   "name": "python",
   "nbconvert_exporter": "python",
   "pygments_lexer": "ipython3",
   "version": "3.11.7"
  }
 },
 "nbformat": 4,
 "nbformat_minor": 5
}
