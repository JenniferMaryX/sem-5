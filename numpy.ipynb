{
 "cells": [
  {
   "cell_type": "code",
   "execution_count": 2,
   "id": "8884239e-4033-4718-a3c9-0f45453e1c1d",
   "metadata": {},
   "outputs": [],
   "source": [
    "import numpy as np"
   ]
  },
  {
   "cell_type": "code",
   "execution_count": 3,
   "id": "1c74bca4-a60c-4b41-847d-c8c184c0dfba",
   "metadata": {},
   "outputs": [],
   "source": [
    "arr=np.array(6)"
   ]
  },
  {
   "cell_type": "code",
   "execution_count": 4,
   "id": "a8fe86ea-cb28-4d37-b2c2-147a11f19652",
   "metadata": {},
   "outputs": [
    {
     "data": {
      "text/plain": [
       "array(6)"
      ]
     },
     "execution_count": 4,
     "metadata": {},
     "output_type": "execute_result"
    }
   ],
   "source": [
    "arr"
   ]
  },
  {
   "cell_type": "code",
   "execution_count": 5,
   "id": "d8d2319b-5826-4ce3-a48f-b7a4d6df671b",
   "metadata": {},
   "outputs": [],
   "source": [
    "arr1=np.array([1,2,3,4,5,6])"
   ]
  },
  {
   "cell_type": "code",
   "execution_count": 6,
   "id": "45c05a0e-9a03-4c7f-be9c-c065fbce5517",
   "metadata": {},
   "outputs": [
    {
     "data": {
      "text/plain": [
       "array([1, 2, 3, 4, 5, 6])"
      ]
     },
     "execution_count": 6,
     "metadata": {},
     "output_type": "execute_result"
    }
   ],
   "source": [
    "arr1"
   ]
  },
  {
   "cell_type": "code",
   "execution_count": 7,
   "id": "c11f90ee-6bf1-437d-b338-f5323d4bffb0",
   "metadata": {},
   "outputs": [],
   "source": [
    "arr2=np.array([[1,2,3],[4,5,6]])"
   ]
  },
  {
   "cell_type": "code",
   "execution_count": 8,
   "id": "327bbc5f-f8ef-4f7a-a0c2-c46edca458c1",
   "metadata": {},
   "outputs": [
    {
     "data": {
      "text/plain": [
       "array([[1, 2, 3],\n",
       "       [4, 5, 6]])"
      ]
     },
     "execution_count": 8,
     "metadata": {},
     "output_type": "execute_result"
    }
   ],
   "source": [
    "arr2"
   ]
  },
  {
   "cell_type": "markdown",
   "id": "a140e5c0-59cb-4eed-83b4-95bfb608e5df",
   "metadata": {},
   "source": [
    "**array types**\n",
    "\n",
    "**1.zero array**\n",
    "\n",
    "**2.ones array**\n",
    "\n",
    "**3.empty array**\n",
    "\n",
    "**4.array for range**"
   ]
  },
  {
   "cell_type": "code",
   "execution_count": 9,
   "id": "ff0b4a1b-9a0b-45d1-895d-da7ca2e976db",
   "metadata": {},
   "outputs": [],
   "source": [
    "zero_array=np.zeros((2,2))"
   ]
  },
  {
   "cell_type": "code",
   "execution_count": 10,
   "id": "763a095b-a537-430d-9e82-3701e56774ea",
   "metadata": {},
   "outputs": [
    {
     "data": {
      "text/plain": [
       "array([[0., 0.],\n",
       "       [0., 0.]])"
      ]
     },
     "execution_count": 10,
     "metadata": {},
     "output_type": "execute_result"
    }
   ],
   "source": [
    "zero_array"
   ]
  },
  {
   "cell_type": "code",
   "execution_count": 11,
   "id": "4ede9afd-a3e0-43ae-a1ce-cb870cfba18f",
   "metadata": {},
   "outputs": [],
   "source": [
    "ones_array=np.ones((2,2))"
   ]
  },
  {
   "cell_type": "code",
   "execution_count": 12,
   "id": "4a87b0e1-f09d-48c7-a54a-afcfe2833a57",
   "metadata": {},
   "outputs": [
    {
     "data": {
      "text/plain": [
       "array([[1., 1.],\n",
       "       [1., 1.]])"
      ]
     },
     "execution_count": 12,
     "metadata": {},
     "output_type": "execute_result"
    }
   ],
   "source": [
    "ones_array"
   ]
  },
  {
   "cell_type": "code",
   "execution_count": 13,
   "id": "239c8f67-be07-4324-9fdd-e93d74d1e120",
   "metadata": {},
   "outputs": [],
   "source": [
    "arr3=np.arange(6)"
   ]
  },
  {
   "cell_type": "code",
   "execution_count": 14,
   "id": "4bd9a086-4adc-4d5d-a8b1-33fe330c2fca",
   "metadata": {},
   "outputs": [
    {
     "data": {
      "text/plain": [
       "array([0, 1, 2, 3, 4, 5])"
      ]
     },
     "execution_count": 14,
     "metadata": {},
     "output_type": "execute_result"
    }
   ],
   "source": [
    "arr3"
   ]
  },
  {
   "cell_type": "code",
   "execution_count": 15,
   "id": "583a479c-a334-4111-a86b-54259e0cca38",
   "metadata": {},
   "outputs": [],
   "source": [
    "arr4=np.arange(2,20,4)"
   ]
  },
  {
   "cell_type": "code",
   "execution_count": 16,
   "id": "92eb2725-ca2d-45c2-abdf-d52bfb6a62b9",
   "metadata": {},
   "outputs": [
    {
     "data": {
      "text/plain": [
       "array([ 2,  6, 10, 14, 18])"
      ]
     },
     "execution_count": 16,
     "metadata": {},
     "output_type": "execute_result"
    }
   ],
   "source": [
    "arr4"
   ]
  },
  {
   "cell_type": "code",
   "execution_count": 17,
   "id": "7dfaab99-6b42-4b1b-8aa5-2bca1f8739a9",
   "metadata": {},
   "outputs": [],
   "source": [
    "arr5=np.transpose(arr2)"
   ]
  },
  {
   "cell_type": "code",
   "execution_count": 18,
   "id": "62d73b66-e2d0-4021-bd16-0557bf80f0cc",
   "metadata": {},
   "outputs": [
    {
     "data": {
      "text/plain": [
       "array([[1, 4],\n",
       "       [2, 5],\n",
       "       [3, 6]])"
      ]
     },
     "execution_count": 18,
     "metadata": {},
     "output_type": "execute_result"
    }
   ],
   "source": [
    "arr5"
   ]
  },
  {
   "cell_type": "code",
   "execution_count": 19,
   "id": "5184228b-7821-4aab-9c6a-905e04f5659b",
   "metadata": {},
   "outputs": [],
   "source": [
    "a1=np.array([2,2])\n",
    "a2=np.array([4,5])"
   ]
  },
  {
   "cell_type": "code",
   "execution_count": 20,
   "id": "3c93381b-524c-4971-8f14-692bc405571e",
   "metadata": {},
   "outputs": [
    {
     "data": {
      "text/plain": [
       "array([2, 2])"
      ]
     },
     "execution_count": 20,
     "metadata": {},
     "output_type": "execute_result"
    }
   ],
   "source": [
    "a1"
   ]
  },
  {
   "cell_type": "code",
   "execution_count": 21,
   "id": "2ccd1d44-b73b-4321-8636-fec282ee43c1",
   "metadata": {},
   "outputs": [
    {
     "data": {
      "text/plain": [
       "array([4, 5])"
      ]
     },
     "execution_count": 21,
     "metadata": {},
     "output_type": "execute_result"
    }
   ],
   "source": [
    "a2"
   ]
  },
  {
   "cell_type": "code",
   "execution_count": 22,
   "id": "ec37c7fd-67e9-42dd-b85e-c5578307edda",
   "metadata": {},
   "outputs": [],
   "source": [
    "concat=np.concatenate((a1,a2))"
   ]
  },
  {
   "cell_type": "code",
   "execution_count": 23,
   "id": "e85316ff-3b02-4c56-af8e-36b24fa8e571",
   "metadata": {},
   "outputs": [
    {
     "data": {
      "text/plain": [
       "array([2, 2, 4, 5])"
      ]
     },
     "execution_count": 23,
     "metadata": {},
     "output_type": "execute_result"
    }
   ],
   "source": [
    "concat"
   ]
  },
  {
   "cell_type": "code",
   "execution_count": 24,
   "id": "eb5f86f2-57b3-49fd-9fda-5a7173cc463b",
   "metadata": {},
   "outputs": [],
   "source": [
    "hori=np.hstack((a1,a2))"
   ]
  },
  {
   "cell_type": "code",
   "execution_count": 25,
   "id": "a8591431-e06d-4f4f-b6c9-9f95c4d3902a",
   "metadata": {},
   "outputs": [
    {
     "data": {
      "text/plain": [
       "array([2, 2, 4, 5])"
      ]
     },
     "execution_count": 25,
     "metadata": {},
     "output_type": "execute_result"
    }
   ],
   "source": [
    "hori"
   ]
  },
  {
   "cell_type": "code",
   "execution_count": 26,
   "id": "849b0259-63f1-466b-a638-ff4b415ba760",
   "metadata": {},
   "outputs": [],
   "source": [
    "ver=np.vstack((a1,a2))"
   ]
  },
  {
   "cell_type": "code",
   "execution_count": 27,
   "id": "bd034ef1-06cc-4a38-879f-ee3e6d9194d0",
   "metadata": {},
   "outputs": [
    {
     "data": {
      "text/plain": [
       "array([[2, 2],\n",
       "       [4, 5]])"
      ]
     },
     "execution_count": 27,
     "metadata": {},
     "output_type": "execute_result"
    }
   ],
   "source": [
    "ver"
   ]
  },
  {
   "cell_type": "code",
   "execution_count": 32,
   "id": "956f4ab4-f77f-4f90-95d8-75b4589a82af",
   "metadata": {},
   "outputs": [],
   "source": [
    "mat=np.array([[8,9,3],[1,2,2],[6,5,3]])"
   ]
  },
  {
   "cell_type": "code",
   "execution_count": 33,
   "id": "f13ff102-694c-4364-bf20-106777754846",
   "metadata": {},
   "outputs": [],
   "source": [
    "det_of_mat=np.linalg.det(mat)"
   ]
  },
  {
   "cell_type": "code",
   "execution_count": 34,
   "id": "cf0faeef-4aa7-499e-9de5-4ed71ba01d02",
   "metadata": {},
   "outputs": [
    {
     "data": {
      "text/plain": [
       "27.999999999999996"
      ]
     },
     "execution_count": 34,
     "metadata": {},
     "output_type": "execute_result"
    }
   ],
   "source": [
    "det_of_mat"
   ]
  },
  {
   "cell_type": "code",
   "execution_count": 35,
   "id": "5da68cde-cccf-461d-90be-79b0ded6422b",
   "metadata": {},
   "outputs": [],
   "source": [
    "inverse=np.linalg.inv(mat)"
   ]
  },
  {
   "cell_type": "code",
   "execution_count": 36,
   "id": "79b193d7-2675-401e-a89a-24a59d45cc4d",
   "metadata": {},
   "outputs": [
    {
     "data": {
      "text/plain": [
       "array([[-0.14285714, -0.42857143,  0.42857143],\n",
       "       [ 0.32142857,  0.21428571, -0.46428571],\n",
       "       [-0.25      ,  0.5       ,  0.25      ]])"
      ]
     },
     "execution_count": 36,
     "metadata": {},
     "output_type": "execute_result"
    }
   ],
   "source": [
    "inverse"
   ]
  },
  {
   "cell_type": "code",
   "execution_count": 37,
   "id": "07048b15-c6cb-4418-8917-2debaabdb78c",
   "metadata": {},
   "outputs": [],
   "source": [
    "dense=np.array(([1,0,0,0],[1,2,0,0],[2,0,0,1],[2,0,0,0]))"
   ]
  },
  {
   "cell_type": "code",
   "execution_count": 38,
   "id": "b62901ca-d0c1-4e37-b925-40a513447d07",
   "metadata": {},
   "outputs": [
    {
     "data": {
      "text/plain": [
       "array([[1, 0, 0, 0],\n",
       "       [1, 2, 0, 0],\n",
       "       [2, 0, 0, 1],\n",
       "       [2, 0, 0, 0]])"
      ]
     },
     "execution_count": 38,
     "metadata": {},
     "output_type": "execute_result"
    }
   ],
   "source": [
    "dense"
   ]
  },
  {
   "cell_type": "code",
   "execution_count": 39,
   "id": "4e3dfb18-9e09-443a-bc2b-bdedfed4ee9d",
   "metadata": {},
   "outputs": [],
   "source": [
    "from scipy.sparse import csr_matrix"
   ]
  },
  {
   "cell_type": "code",
   "execution_count": 40,
   "id": "f3fd70ba-c18f-466f-9226-6020354b5798",
   "metadata": {},
   "outputs": [],
   "source": [
    "sparse=csr_matrix(dense)"
   ]
  },
  {
   "cell_type": "code",
   "execution_count": 42,
   "id": "69d10d53-cb6f-4dab-826b-cf683ef11e21",
   "metadata": {},
   "outputs": [
    {
     "data": {
      "text/plain": [
       "<4x4 sparse matrix of type '<class 'numpy.int32'>'\n",
       "\twith 6 stored elements in Compressed Sparse Row format>"
      ]
     },
     "execution_count": 42,
     "metadata": {},
     "output_type": "execute_result"
    }
   ],
   "source": [
    "sparse"
   ]
  },
  {
   "cell_type": "code",
   "execution_count": 43,
   "id": "68c6f6a7-5466-4386-8734-35bf83829008",
   "metadata": {},
   "outputs": [
    {
     "name": "stdout",
     "output_type": "stream",
     "text": [
      "  (0, 0)\t1\n",
      "  (1, 0)\t1\n",
      "  (1, 1)\t2\n",
      "  (2, 0)\t2\n",
      "  (2, 3)\t1\n",
      "  (3, 0)\t2\n"
     ]
    }
   ],
   "source": [
    "print(sparse)"
   ]
  },
  {
   "cell_type": "code",
   "execution_count": null,
   "id": "4d33ec30-953d-419b-a154-484d7df5a22b",
   "metadata": {},
   "outputs": [],
   "source": []
  }
 ],
 "metadata": {
  "kernelspec": {
   "display_name": "Python 3 (ipykernel)",
   "language": "python",
   "name": "python3"
  },
  "language_info": {
   "codemirror_mode": {
    "name": "ipython",
    "version": 3
   },
   "file_extension": ".py",
   "mimetype": "text/x-python",
   "name": "python",
   "nbconvert_exporter": "python",
   "pygments_lexer": "ipython3",
   "version": "3.11.7"
  }
 },
 "nbformat": 4,
 "nbformat_minor": 5
}
