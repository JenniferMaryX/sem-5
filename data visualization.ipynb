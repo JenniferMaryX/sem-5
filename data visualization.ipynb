{
 "cells": [
  {
   "cell_type": "code",
   "execution_count": 1,
   "id": "7dcd86f6-b06a-4339-8978-9e706891f32a",
   "metadata": {},
   "outputs": [],
   "source": [
    "import pandas as pd"
   ]
  },
  {
   "cell_type": "code",
   "execution_count": 2,
   "id": "07935c00-c9bc-4f75-8280-9c54ee53eb5e",
   "metadata": {},
   "outputs": [],
   "source": [
    "data=pd.read_csv(\"2019_cleaned.csv\")"
   ]
  },
  {
   "cell_type": "code",
   "execution_count": 3,
   "id": "5411d0f0-f909-4a25-a6ce-4e3d48fdafbb",
   "metadata": {
    "scrolled": true
   },
   "outputs": [
    {
     "data": {
      "text/html": [
       "<div>\n",
       "<style scoped>\n",
       "    .dataframe tbody tr th:only-of-type {\n",
       "        vertical-align: middle;\n",
       "    }\n",
       "\n",
       "    .dataframe tbody tr th {\n",
       "        vertical-align: top;\n",
       "    }\n",
       "\n",
       "    .dataframe thead th {\n",
       "        text-align: right;\n",
       "    }\n",
       "</style>\n",
       "<table border=\"1\" class=\"dataframe\">\n",
       "  <thead>\n",
       "    <tr style=\"text-align: right;\">\n",
       "      <th></th>\n",
       "      <th>Unnamed: 0</th>\n",
       "      <th>Province/State</th>\n",
       "      <th>Country</th>\n",
       "      <th>Date last updated</th>\n",
       "      <th>Confirmed</th>\n",
       "      <th>Suspected</th>\n",
       "      <th>Recovered</th>\n",
       "      <th>Deaths</th>\n",
       "    </tr>\n",
       "  </thead>\n",
       "  <tbody>\n",
       "    <tr>\n",
       "      <th>0</th>\n",
       "      <td>0</td>\n",
       "      <td>Shanghai</td>\n",
       "      <td>Mainland China</td>\n",
       "      <td>1/21/2020</td>\n",
       "      <td>9</td>\n",
       "      <td>10</td>\n",
       "      <td>0</td>\n",
       "      <td>0</td>\n",
       "    </tr>\n",
       "    <tr>\n",
       "      <th>1</th>\n",
       "      <td>1</td>\n",
       "      <td>Yunnan</td>\n",
       "      <td>Mainland China</td>\n",
       "      <td>1/21/2020</td>\n",
       "      <td>1</td>\n",
       "      <td>0</td>\n",
       "      <td>0</td>\n",
       "      <td>0</td>\n",
       "    </tr>\n",
       "    <tr>\n",
       "      <th>2</th>\n",
       "      <td>2</td>\n",
       "      <td>Beijing</td>\n",
       "      <td>Mainland China</td>\n",
       "      <td>1/21/2020</td>\n",
       "      <td>10</td>\n",
       "      <td>0</td>\n",
       "      <td>0</td>\n",
       "      <td>0</td>\n",
       "    </tr>\n",
       "    <tr>\n",
       "      <th>3</th>\n",
       "      <td>3</td>\n",
       "      <td>Taiwan</td>\n",
       "      <td>Taiwan</td>\n",
       "      <td>1/21/2020</td>\n",
       "      <td>1</td>\n",
       "      <td>0</td>\n",
       "      <td>0</td>\n",
       "      <td>0</td>\n",
       "    </tr>\n",
       "    <tr>\n",
       "      <th>4</th>\n",
       "      <td>4</td>\n",
       "      <td>Jilin</td>\n",
       "      <td>Mainland China</td>\n",
       "      <td>1/21/2020</td>\n",
       "      <td>0</td>\n",
       "      <td>1</td>\n",
       "      <td>0</td>\n",
       "      <td>0</td>\n",
       "    </tr>\n",
       "    <tr>\n",
       "      <th>...</th>\n",
       "      <td>...</td>\n",
       "      <td>...</td>\n",
       "      <td>...</td>\n",
       "      <td>...</td>\n",
       "      <td>...</td>\n",
       "      <td>...</td>\n",
       "      <td>...</td>\n",
       "      <td>...</td>\n",
       "    </tr>\n",
       "    <tr>\n",
       "      <th>363</th>\n",
       "      <td>363</td>\n",
       "      <td>0</td>\n",
       "      <td>France</td>\n",
       "      <td>1/26/2020 11:00 AM</td>\n",
       "      <td>3</td>\n",
       "      <td>0</td>\n",
       "      <td>0</td>\n",
       "      <td>0</td>\n",
       "    </tr>\n",
       "    <tr>\n",
       "      <th>364</th>\n",
       "      <td>364</td>\n",
       "      <td>0</td>\n",
       "      <td>Australia</td>\n",
       "      <td>1/26/2020 11:00 AM</td>\n",
       "      <td>4</td>\n",
       "      <td>0</td>\n",
       "      <td>0</td>\n",
       "      <td>0</td>\n",
       "    </tr>\n",
       "    <tr>\n",
       "      <th>365</th>\n",
       "      <td>365</td>\n",
       "      <td>0</td>\n",
       "      <td>Nepal</td>\n",
       "      <td>1/26/2020 11:00 AM</td>\n",
       "      <td>1</td>\n",
       "      <td>0</td>\n",
       "      <td>0</td>\n",
       "      <td>0</td>\n",
       "    </tr>\n",
       "    <tr>\n",
       "      <th>366</th>\n",
       "      <td>366</td>\n",
       "      <td>0</td>\n",
       "      <td>Malaysia</td>\n",
       "      <td>1/26/2020 11:00 AM</td>\n",
       "      <td>4</td>\n",
       "      <td>0</td>\n",
       "      <td>0</td>\n",
       "      <td>0</td>\n",
       "    </tr>\n",
       "    <tr>\n",
       "      <th>367</th>\n",
       "      <td>367</td>\n",
       "      <td>Ontario</td>\n",
       "      <td>Canada</td>\n",
       "      <td>1/26/2020 11:00 AM</td>\n",
       "      <td>1</td>\n",
       "      <td>0</td>\n",
       "      <td>0</td>\n",
       "      <td>0</td>\n",
       "    </tr>\n",
       "  </tbody>\n",
       "</table>\n",
       "<p>368 rows × 8 columns</p>\n",
       "</div>"
      ],
      "text/plain": [
       "     Unnamed: 0 Province/State         Country   Date last updated  Confirmed  \\\n",
       "0             0       Shanghai  Mainland China           1/21/2020          9   \n",
       "1             1         Yunnan  Mainland China           1/21/2020          1   \n",
       "2             2        Beijing  Mainland China           1/21/2020         10   \n",
       "3             3         Taiwan          Taiwan           1/21/2020          1   \n",
       "4             4          Jilin  Mainland China           1/21/2020          0   \n",
       "..          ...            ...             ...                 ...        ...   \n",
       "363         363              0          France  1/26/2020 11:00 AM          3   \n",
       "364         364              0       Australia  1/26/2020 11:00 AM          4   \n",
       "365         365              0           Nepal  1/26/2020 11:00 AM          1   \n",
       "366         366              0        Malaysia  1/26/2020 11:00 AM          4   \n",
       "367         367        Ontario          Canada  1/26/2020 11:00 AM          1   \n",
       "\n",
       "     Suspected  Recovered  Deaths  \n",
       "0           10          0       0  \n",
       "1            0          0       0  \n",
       "2            0          0       0  \n",
       "3            0          0       0  \n",
       "4            1          0       0  \n",
       "..         ...        ...     ...  \n",
       "363          0          0       0  \n",
       "364          0          0       0  \n",
       "365          0          0       0  \n",
       "366          0          0       0  \n",
       "367          0          0       0  \n",
       "\n",
       "[368 rows x 8 columns]"
      ]
     },
     "execution_count": 3,
     "metadata": {},
     "output_type": "execute_result"
    }
   ],
   "source": [
    "data"
   ]
  },
  {
   "cell_type": "code",
   "execution_count": 4,
   "id": "9361e409-beba-43f8-9970-d05f8ff03eff",
   "metadata": {},
   "outputs": [],
   "source": [
    "DATA=pd.DataFrame(data,columns=[\"Unnamed: 0\",\"Province/State\",\"Country\",\"Confirmed\"])"
   ]
  },
  {
   "cell_type": "code",
   "execution_count": 5,
   "id": "3d5df8dd-abe5-4046-915b-ba86a6998042",
   "metadata": {},
   "outputs": [
    {
     "data": {
      "text/html": [
       "<div>\n",
       "<style scoped>\n",
       "    .dataframe tbody tr th:only-of-type {\n",
       "        vertical-align: middle;\n",
       "    }\n",
       "\n",
       "    .dataframe tbody tr th {\n",
       "        vertical-align: top;\n",
       "    }\n",
       "\n",
       "    .dataframe thead th {\n",
       "        text-align: right;\n",
       "    }\n",
       "</style>\n",
       "<table border=\"1\" class=\"dataframe\">\n",
       "  <thead>\n",
       "    <tr style=\"text-align: right;\">\n",
       "      <th></th>\n",
       "      <th>Unnamed: 0</th>\n",
       "      <th>Province/State</th>\n",
       "      <th>Country</th>\n",
       "      <th>Confirmed</th>\n",
       "    </tr>\n",
       "  </thead>\n",
       "  <tbody>\n",
       "    <tr>\n",
       "      <th>0</th>\n",
       "      <td>0</td>\n",
       "      <td>Shanghai</td>\n",
       "      <td>Mainland China</td>\n",
       "      <td>9</td>\n",
       "    </tr>\n",
       "    <tr>\n",
       "      <th>1</th>\n",
       "      <td>1</td>\n",
       "      <td>Yunnan</td>\n",
       "      <td>Mainland China</td>\n",
       "      <td>1</td>\n",
       "    </tr>\n",
       "    <tr>\n",
       "      <th>2</th>\n",
       "      <td>2</td>\n",
       "      <td>Beijing</td>\n",
       "      <td>Mainland China</td>\n",
       "      <td>10</td>\n",
       "    </tr>\n",
       "    <tr>\n",
       "      <th>3</th>\n",
       "      <td>3</td>\n",
       "      <td>Taiwan</td>\n",
       "      <td>Taiwan</td>\n",
       "      <td>1</td>\n",
       "    </tr>\n",
       "    <tr>\n",
       "      <th>4</th>\n",
       "      <td>4</td>\n",
       "      <td>Jilin</td>\n",
       "      <td>Mainland China</td>\n",
       "      <td>0</td>\n",
       "    </tr>\n",
       "    <tr>\n",
       "      <th>...</th>\n",
       "      <td>...</td>\n",
       "      <td>...</td>\n",
       "      <td>...</td>\n",
       "      <td>...</td>\n",
       "    </tr>\n",
       "    <tr>\n",
       "      <th>363</th>\n",
       "      <td>363</td>\n",
       "      <td>0</td>\n",
       "      <td>France</td>\n",
       "      <td>3</td>\n",
       "    </tr>\n",
       "    <tr>\n",
       "      <th>364</th>\n",
       "      <td>364</td>\n",
       "      <td>0</td>\n",
       "      <td>Australia</td>\n",
       "      <td>4</td>\n",
       "    </tr>\n",
       "    <tr>\n",
       "      <th>365</th>\n",
       "      <td>365</td>\n",
       "      <td>0</td>\n",
       "      <td>Nepal</td>\n",
       "      <td>1</td>\n",
       "    </tr>\n",
       "    <tr>\n",
       "      <th>366</th>\n",
       "      <td>366</td>\n",
       "      <td>0</td>\n",
       "      <td>Malaysia</td>\n",
       "      <td>4</td>\n",
       "    </tr>\n",
       "    <tr>\n",
       "      <th>367</th>\n",
       "      <td>367</td>\n",
       "      <td>Ontario</td>\n",
       "      <td>Canada</td>\n",
       "      <td>1</td>\n",
       "    </tr>\n",
       "  </tbody>\n",
       "</table>\n",
       "<p>368 rows × 4 columns</p>\n",
       "</div>"
      ],
      "text/plain": [
       "     Unnamed: 0 Province/State         Country  Confirmed\n",
       "0             0       Shanghai  Mainland China          9\n",
       "1             1         Yunnan  Mainland China          1\n",
       "2             2        Beijing  Mainland China         10\n",
       "3             3         Taiwan          Taiwan          1\n",
       "4             4          Jilin  Mainland China          0\n",
       "..          ...            ...             ...        ...\n",
       "363         363              0          France          3\n",
       "364         364              0       Australia          4\n",
       "365         365              0           Nepal          1\n",
       "366         366              0        Malaysia          4\n",
       "367         367        Ontario          Canada          1\n",
       "\n",
       "[368 rows x 4 columns]"
      ]
     },
     "execution_count": 5,
     "metadata": {},
     "output_type": "execute_result"
    }
   ],
   "source": [
    "DATA"
   ]
  },
  {
   "cell_type": "code",
   "execution_count": 6,
   "id": "30bf83e4-b118-459f-8ab3-3ff15e53d7d1",
   "metadata": {},
   "outputs": [],
   "source": [
    "import matplotlib.pyplot as pt"
   ]
  },
  {
   "cell_type": "code",
   "execution_count": 7,
   "id": "ce5a5af3-61d3-43fd-9fae-e181b44155b6",
   "metadata": {},
   "outputs": [],
   "source": [
    "%matplotlib inline"
   ]
  },
  {
   "cell_type": "code",
   "execution_count": 21,
   "id": "236b3a44-184f-496c-832c-dddb289e62ad",
   "metadata": {},
   "outputs": [
    {
     "data": {
      "text/plain": [
       "<matplotlib.collections.PathCollection at 0x259e00443d0>"
      ]
     },
     "execution_count": 21,
     "metadata": {},
     "output_type": "execute_result"
    },
    {
     "data": {
      "image/png": "[encoded data removed]",
      "text/plain": [
       "<Figure size 640x480 with 1 Axes>"
      ]
     },
     "metadata": {},
     "output_type": "display_data"
    }
   ],
   "source": [
    "pt.scatter(data[\"Country\"][:50],data[\"Confirmed\"][:50])"
   ]
  },
  {
   "cell_type": "code",
   "execution_count": 30,
   "id": "c6f7ed88-b61b-481a-956b-3e1682f00a88",
   "metadata": {},
   "outputs": [
    {
     "data": {
      "text/plain": [
       "([<matplotlib.patches.Wedge at 0x259e29d3750>,\n",
       "  <matplotlib.patches.Wedge at 0x259e748fe90>,\n",
       "  <matplotlib.patches.Wedge at 0x259e749cb90>,\n",
       "  <matplotlib.patches.Wedge at 0x259e749d9d0>,\n",
       "  <matplotlib.patches.Wedge at 0x259e749e610>,\n",
       "  <matplotlib.patches.Wedge at 0x259e749fd90>,\n",
       "  <matplotlib.patches.Wedge at 0x259e74c4c90>,\n",
       "  <matplotlib.patches.Wedge at 0x259e74c5c90>,\n",
       "  <matplotlib.patches.Wedge at 0x259e74c6c90>,\n",
       "  <matplotlib.patches.Wedge at 0x259e749fb90>,\n",
       "  <matplotlib.patches.Wedge at 0x259e74d4b10>,\n",
       "  <matplotlib.patches.Wedge at 0x259e74d5950>,\n",
       "  <matplotlib.patches.Wedge at 0x259e74d6910>,\n",
       "  <matplotlib.patches.Wedge at 0x259e74d7790>,\n",
       "  <matplotlib.patches.Wedge at 0x259e74e0850>,\n",
       "  <matplotlib.patches.Wedge at 0x259e74e17d0>,\n",
       "  <matplotlib.patches.Wedge at 0x259e74e2650>,\n",
       "  <matplotlib.patches.Wedge at 0x259e74e3690>,\n",
       "  <matplotlib.patches.Wedge at 0x259e74f06d0>,\n",
       "  <matplotlib.patches.Wedge at 0x259e74f16d0>],\n",
       " [Text(0.8978165971746812, 0.6355512236143335, 'Shanghai'),\n",
       "  Text(0.36559025847695215, 1.0374698853011377, 'Yunnan'),\n",
       "  Text(0.36559025847695215, 1.0374698853011377, 'Beijing'),\n",
       "  Text(0.36559025847695215, 1.0374698853011377, 'Taiwan'),\n",
       "  Text(0.3010292654073719, 1.0580082142253426, 'Jilin'),\n",
       "  Text(0.1687307913070563, 1.0869820238002534, 'Sichuan'),\n",
       "  Text(0.10149516373974901, 1.0953075968591843, 'Tianjin'),\n",
       "  Text(0.03387453022441106, 1.0994782927380038, 'Ningxia'),\n",
       "  Text(-0.23532642802113726, 1.074533141543253, 'Anhui'),\n",
       "  Text(-0.4287644957233542, 1.0129960548822972, 'Shandong'),\n",
       "  Text(-0.662898138089259, 0.8778189212575643, 'Guangdong'),\n",
       "  Text(-0.8978166380840918, 0.6355511658233184, 'Guangxi'),\n",
       "  Text(-0.9352388819922055, 0.5790753263695231, 'Jiangxi'),\n",
       "  Text(-0.9352388819922055, 0.5790753263695231, 'Henan'),\n",
       "  Text(-0.99931175701101, -0.45975647064458836, 'Zhejiang'),\n",
       "  Text(-0.10149505478026911, -1.0953076069557586, 'Hainan'),\n",
       "  Text(0.6628982202765947, -0.8778188591925578, 'Hubei'),\n",
       "  Text(1.0667766681197122, -0.26830493911854353, 'Hunan'),\n",
       "  Text(1.0812704390822858, -0.20212431216160337, 'Guizhou'),\n",
       "  Text(1.0979136717658105, -0.06771683210042119, 'Liaoning')])"
      ]
     },
     "execution_count": 30,
     "metadata": {},
     "output_type": "execute_result"
    },
    {
     "data": {
      "image/png": "[encoded data removed]",
      "text/plain": [
       "<Figure size 640x480 with 1 Axes>"
      ]
     },
     "metadata": {},
     "output_type": "display_data"
    }
   ],
   "source": [
    "pt.pie(data[\"Suspected\"][:20],labels=data[\"Province/State\"][:20])"
   ]
  },
  {
   "cell_type": "code",
   "execution_count": 34,
   "id": "44227ad1-7653-4d96-adee-b0baf926bc79",
   "metadata": {
    "scrolled": true
   },
   "outputs": [
    {
     "data": {
      "text/plain": [
       "<BarContainer object of 368 artists>"
      ]
     },
     "execution_count": 34,
     "metadata": {},
     "output_type": "execute_result"
    },
    {
     "data": {
      "image/png": "[encoded data removed]",
      "text/plain": [
       "<Figure size 640x480 with 1 Axes>"
      ]
     },
     "metadata": {},
     "output_type": "display_data"
    }
   ],
   "source": [
    "pt.bar(data[\"Province/State\"][:],data[\"Confirmed\"][:])"
   ]
  },
  {
   "cell_type": "code",
   "execution_count": null,
   "id": "1dd217a3-ce36-4492-b1b6-cb7487c0a293",
   "metadata": {},
   "outputs": [],
   "source": [
    " "
   ]
  }
 ],
 "metadata": {
  "kernelspec": {
   "display_name": "Python 3 (ipykernel)",
   "language": "python",
   "name": "python3"
  },
  "language_info": {
   "codemirror_mode": {
    "name": "ipython",
    "version": 3
   },
   "file_extension": ".py",
   "mimetype": "text/x-python",
   "name": "python",
   "nbconvert_exporter": "python",
   "pygments_lexer": "ipython3",
   "version": "3.11.7"
  }
 },
 "nbformat": 4,
 "nbformat_minor": 5
}
